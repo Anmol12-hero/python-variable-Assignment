{
 "cells": [
  {
   "cell_type": "code",
   "execution_count": 3,
   "id": "2a76e7bf-6bf5-4908-892a-1d7780905cf4",
   "metadata": {},
   "outputs": [],
   "source": [
    "# Q1. Write all the conventions being followed while declaring a variable ?"
   ]
  },
  {
   "cell_type": "code",
   "execution_count": 5,
   "id": "4fb35dcd-8a84-4cf6-bcc5-e670967ed7d4",
   "metadata": {},
   "outputs": [],
   "source": [
    "# The conventions followed while declaring a variable include:\n",
    "# 1. Choosing a meaningful name for the variable that describes what the variable represents.The name should be written in lowercase letters and if the variable name contains multiple words, they should be separated by underscores.\n",
    "# 2.Initializing the variable with a default value if necessary.\n",
    "# 3.Using uppercase letters for constants or variables with constant values.\n",
    "# 4.Avoiding reserved words in Python as variable names. For example, you can't use 'if' or 'while' as variable names.\n",
    "# 5.Keeping the variable name concise and descriptive.\n",
    "# 6.Avoiding abbreviations or acronyms unless they are commonly used or widely understood.\n",
    "# 7.Following the naming conventions used in the existing codebase, if applicable, to maintain consistency.\n",
    "# 8.Using the 'snake_case' naming convention for variable names in Python, which means that you should use underscores to separate words in the variable name.\n",
    "# 9.Avoiding the use of special characters, except for underscores, in variable names."
   ]
  },
  {
   "cell_type": "code",
   "execution_count": 7,
   "id": "71d31f04-0a37-45b9-ba88-5be9a9d61415",
   "metadata": {},
   "outputs": [],
   "source": [
    "# Q2. What will happen if we declare a restricted keyword as a variable ?"
   ]
  },
  {
   "cell_type": "code",
   "execution_count": 14,
   "id": "37d2d899-de9c-42e9-b27b-8cf5990626c2",
   "metadata": {},
   "outputs": [],
   "source": [
    "# If I declare a restricted keyword as a variable in Python, you will get a syntax error. Restricted keywords in Python are reserved for specific purposes and cannot be used as variable names. If you try to use a restricted keyword as a variable name, Python will throw a \"SyntaxError: can't assign to keyword\" error.\n",
    "\n",
    "# For example, the following code will raise a syntax error because 'if' is a reserved keyword in Python:"
   ]
  },
  {
   "cell_type": "code",
   "execution_count": 11,
   "id": "49d5d3d4-1dbd-4a20-bea5-83d8d6b35741",
   "metadata": {},
   "outputs": [
    {
     "ename": "SyntaxError",
     "evalue": "invalid syntax (2630263448.py, line 1)",
     "output_type": "error",
     "traceback": [
      "\u001b[0;36m  Cell \u001b[0;32mIn[11], line 1\u001b[0;36m\u001b[0m\n\u001b[0;31m    if = 5\u001b[0m\n\u001b[0m       ^\u001b[0m\n\u001b[0;31mSyntaxError\u001b[0m\u001b[0;31m:\u001b[0m invalid syntax\n"
     ]
    }
   ],
   "source": [
    "if = 5"
   ]
  },
  {
   "cell_type": "code",
   "execution_count": 12,
   "id": "236877ac-62e7-4cb3-92aa-cbbdfea5c271",
   "metadata": {},
   "outputs": [],
   "source": [
    "# To avoid this error, you can choose a different name for your variable that does not conflict with any of Python's reserved keywords."
   ]
  },
  {
   "cell_type": "code",
   "execution_count": 13,
   "id": "3ededa1f-6cfd-4421-9b16-33ed5ffe798d",
   "metadata": {},
   "outputs": [],
   "source": [
    "# Q3. Can we actually declare a string as a variable name?"
   ]
  },
  {
   "cell_type": "code",
   "execution_count": 15,
   "id": "52c9cbaa-d4e1-46a7-8159-332ba3acf43a",
   "metadata": {},
   "outputs": [],
   "source": [
    "# I can declare a string as a variable name. However, it's not a recommended practice, and it can make your code harder to read and maintain.\n",
    "# Here is an example of declaring a string as a variable name in Python:\n",
    "#my_variable_name = 10\n",
    "#Instead of using a string as a variable name, you should choose a name that is concise, meaningful, and follows Python's naming conventions. Variable names in Python should be written in lowercase letters with underscores used to separate words."
   ]
  },
  {
   "cell_type": "code",
   "execution_count": 16,
   "id": "16db4b66-d72f-424b-a56c-fe19ca5c1fc6",
   "metadata": {},
   "outputs": [],
   "source": [
    "# Q4. Is it possible for us to declare “_” as a variable? If so, then write an example of it."
   ]
  },
  {
   "cell_type": "code",
   "execution_count": 17,
   "id": "41d0e656-3fd9-4b61-bfa9-b922429ae5ed",
   "metadata": {},
   "outputs": [],
   "source": [
    "# Yes, it is possible to declare \"_\" as a variable in Python. In Python, the underscore character is a valid character for variable names, but it's usually used for specific purposes, such as to indicate a throwaway variable.\n",
    "# for ex -\n",
    "# _ = 10"
   ]
  },
  {
   "cell_type": "code",
   "execution_count": 18,
   "id": "ac8f1fa0-802b-4d67-89db-5284c215a5bf",
   "metadata": {},
   "outputs": [],
   "source": [
    "# Q5. Using an example, explain how the variables in python are dynamic in nature."
   ]
  },
  {
   "cell_type": "code",
   "execution_count": 20,
   "id": "ea9592f4-b1a4-4d85-986a-aefc32cc4e6e",
   "metadata": {},
   "outputs": [],
   "source": [
    "# Python, variables are dynamic in nature, which means that you don't need to declare the data type of a variable explicitly. The data type of a variable in Python is determined at runtime based on the type of value that's assigned to the variable.\n",
    "# for ex-"
   ]
  },
  {
   "cell_type": "code",
   "execution_count": 22,
   "id": "9a4b7eb8-050c-41fa-a4b0-2394b3817602",
   "metadata": {},
   "outputs": [
    {
     "data": {
      "text/plain": [
       "str"
      ]
     },
     "execution_count": 22,
     "metadata": {},
     "output_type": "execute_result"
    }
   ],
   "source": [
    "# declare a variable called \"my_variable\"\n",
    "my_variable = 10\n",
    "\n",
    "# the data type of \"my_variable\" is int\n",
    "type(my_variable)\n",
    "\n",
    "# reassign \"my_variable\" with a string value\n",
    "my_variable = \"Hello, World!\"\n",
    "\n",
    "# the data type of \"my_variable\" is now str\n",
    "type(my_variable)"
   ]
  }
 ],
 "metadata": {
  "kernelspec": {
   "display_name": "Python 3 (ipykernel)",
   "language": "python",
   "name": "python3"
  },
  "language_info": {
   "codemirror_mode": {
    "name": "ipython",
    "version": 3
   },
   "file_extension": ".py",
   "mimetype": "text/x-python",
   "name": "python",
   "nbconvert_exporter": "python",
   "pygments_lexer": "ipython3",
   "version": "3.10.8"
  }
 },
 "nbformat": 4,
 "nbformat_minor": 5
}
